{
 "cells": [
  {
   "cell_type": "markdown",
   "id": "b7d4ddc7-910d-4ba6-9bc6-d54c3e1f0a0f",
   "metadata": {},
   "source": [
    "### Testing Codestral with SQL \n",
    "\n",
    "- The cells will contain different propmts in natural language and the SQL code generated as a consequence of the prompt. "
   ]
  },
  {
   "cell_type": "markdown",
   "id": "451d42eb-a462-4287-a025-5099ae950f12",
   "metadata": {},
   "source": [
    "## Prompt \n",
    "I have a data base that contains the table customers, the table transactions and the table financials. Each customer is a company and the table customers contains data aboyut each customer. The table transactions contains data about loans and small transactions while the table financials contains the balance sheet of each customer. Please create an SQL query that can give me all the customers having loans during the year 2019 and that the amount of assets in their balance sheet is greater than 10 million dollars"
   ]
  },
  {
   "cell_type": "markdown",
   "id": "bd88efd5-018d-4ebc-ac5e-494f34ae6be5",
   "metadata": {},
   "source": [
    "## Output"
   ]
  },
  {
   "cell_type": "markdown",
   "id": "fc89ad28-6cac-40a7-af71-9d2960f176f2",
   "metadata": {},
   "source": [
    ">>>  \n",
    " Sure, I can help with that. Here's a basic SQL query that should do what \n",
    "you're asking for:\n",
    "\n",
    "```sql\n",
    "SELECT c.*\n",
    "FROM customers AS c\n",
    "INNER JOIN transactions AS t ON c.customer_id = t.customer_id\n",
    "INNER JOIN financials AS f ON c.customer_id = f.customer_id\n",
    "WHERE YEAR(t.transaction_date) = 2019 AND t.loan_amount > 0 AND \n",
    "f.total_assets > 10000000;\n",
    "```\n",
    "\n",
    "\n",
    "\n"
   ]
  },
  {
   "cell_type": "markdown",
   "id": "ce679fc3-c212-4cdb-aadc-d015cfa6b485",
   "metadata": {},
   "source": [
    "## Explanantion"
   ]
  },
  {
   "cell_type": "markdown",
   "id": "72499806-6293-490a-98fe-9c8defba5785",
   "metadata": {},
   "source": [
    "This query will join the three tables on the customer_id field, which is \n",
    "assumed to be a common field in all three tables that uniquely identifies \n",
    "each customer. It then filters the results to include only transactions \n",
    "that occurred in 2019 (as indicated by the transaction_date field), where \n",
    "there was a loan amount greater than 0 (indicating a loan) and where the \n",
    "total assets were greater than 10 million dollars (based on the \n",
    "total_assets field). The `SELECT c.*` part of the query means it will \n",
    "return all fields from the customers table for matching records."
   ]
  },
  {
   "cell_type": "code",
   "execution_count": null,
   "id": "92e1540b-6659-489f-a05d-ee23054ba5fe",
   "metadata": {},
   "outputs": [],
   "source": []
  },
  {
   "cell_type": "code",
   "execution_count": null,
   "id": "da8e063b-4262-4747-8243-24f7dde74905",
   "metadata": {},
   "outputs": [],
   "source": []
  },
  {
   "cell_type": "code",
   "execution_count": null,
   "id": "513bc4b6-e07e-45d4-bae2-2ee16b4a6e8d",
   "metadata": {},
   "outputs": [],
   "source": []
  },
  {
   "cell_type": "code",
   "execution_count": null,
   "id": "15ff1de1-876b-4a17-b52a-84240ca229a6",
   "metadata": {},
   "outputs": [],
   "source": []
  },
  {
   "cell_type": "code",
   "execution_count": null,
   "id": "b7d8bd81-f746-48ff-8d26-e291cd81fcc6",
   "metadata": {},
   "outputs": [],
   "source": []
  },
  {
   "cell_type": "code",
   "execution_count": null,
   "id": "ddc6bf7c-39a4-426a-9947-9ec1a53c334d",
   "metadata": {},
   "outputs": [],
   "source": []
  },
  {
   "cell_type": "code",
   "execution_count": null,
   "id": "716a1475-1f64-4b7c-b94d-e20bc1486580",
   "metadata": {},
   "outputs": [],
   "source": []
  },
  {
   "cell_type": "code",
   "execution_count": null,
   "id": "197bad77-be93-4a1c-ac33-b8891836e6dc",
   "metadata": {},
   "outputs": [],
   "source": []
  }
 ],
 "metadata": {
  "kernelspec": {
   "display_name": "Python 3 (ipykernel)",
   "language": "python",
   "name": "python3"
  },
  "language_info": {
   "codemirror_mode": {
    "name": "ipython",
    "version": 3
   },
   "file_extension": ".py",
   "mimetype": "text/x-python",
   "name": "python",
   "nbconvert_exporter": "python",
   "pygments_lexer": "ipython3",
   "version": "3.10.13"
  }
 },
 "nbformat": 4,
 "nbformat_minor": 5
}
