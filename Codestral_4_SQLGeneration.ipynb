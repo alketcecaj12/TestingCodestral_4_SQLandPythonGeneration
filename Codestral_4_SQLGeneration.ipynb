{
 "cells": [
  {
   "cell_type": "markdown",
   "id": "b7d4ddc7-910d-4ba6-9bc6-d54c3e1f0a0f",
   "metadata": {},
   "source": [
    "### Testing Codestral with SQL \n",
    "\n",
    "- The cells will contain different propmts in natural language and the SQL code generated as a consequence of the prompt. "
   ]
  },
  {
   "cell_type": "code",
   "execution_count": null,
   "id": "d7902570-3af8-4113-83c8-8fcd32fd5d99",
   "metadata": {},
   "outputs": [],
   "source": []
  },
  {
   "cell_type": "code",
   "execution_count": null,
   "id": "59f4a5b1-c0cf-4d6e-ad24-760383d56090",
   "metadata": {},
   "outputs": [],
   "source": []
  },
  {
   "cell_type": "code",
   "execution_count": null,
   "id": "92e1540b-6659-489f-a05d-ee23054ba5fe",
   "metadata": {},
   "outputs": [],
   "source": []
  },
  {
   "cell_type": "code",
   "execution_count": null,
   "id": "da8e063b-4262-4747-8243-24f7dde74905",
   "metadata": {},
   "outputs": [],
   "source": []
  },
  {
   "cell_type": "code",
   "execution_count": null,
   "id": "513bc4b6-e07e-45d4-bae2-2ee16b4a6e8d",
   "metadata": {},
   "outputs": [],
   "source": []
  },
  {
   "cell_type": "code",
   "execution_count": null,
   "id": "15ff1de1-876b-4a17-b52a-84240ca229a6",
   "metadata": {},
   "outputs": [],
   "source": []
  },
  {
   "cell_type": "code",
   "execution_count": null,
   "id": "b7d8bd81-f746-48ff-8d26-e291cd81fcc6",
   "metadata": {},
   "outputs": [],
   "source": []
  },
  {
   "cell_type": "code",
   "execution_count": null,
   "id": "ddc6bf7c-39a4-426a-9947-9ec1a53c334d",
   "metadata": {},
   "outputs": [],
   "source": []
  },
  {
   "cell_type": "code",
   "execution_count": null,
   "id": "716a1475-1f64-4b7c-b94d-e20bc1486580",
   "metadata": {},
   "outputs": [],
   "source": []
  },
  {
   "cell_type": "code",
   "execution_count": null,
   "id": "197bad77-be93-4a1c-ac33-b8891836e6dc",
   "metadata": {},
   "outputs": [],
   "source": []
  }
 ],
 "metadata": {
  "kernelspec": {
   "display_name": "Python 3 (ipykernel)",
   "language": "python",
   "name": "python3"
  },
  "language_info": {
   "codemirror_mode": {
    "name": "ipython",
    "version": 3
   },
   "file_extension": ".py",
   "mimetype": "text/x-python",
   "name": "python",
   "nbconvert_exporter": "python",
   "pygments_lexer": "ipython3",
   "version": "3.10.13"
  }
 },
 "nbformat": 4,
 "nbformat_minor": 5
}
