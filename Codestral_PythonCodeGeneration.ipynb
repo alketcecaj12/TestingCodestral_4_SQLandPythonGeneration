{
 "cells": [
  {
   "cell_type": "markdown",
   "id": "5ca5b50f-9157-443e-92a9-fe977cedea3e",
   "metadata": {},
   "source": [
    "## This notebook is for testing Llama3 capabilities in generating Python code"
   ]
  },
  {
   "cell_type": "markdown",
   "id": "c3fa9608-bb90-4d34-ac6f-aa883ffd9bcd",
   "metadata": {},
   "source": [
    "### Prompt "
   ]
  },
  {
   "cell_type": "markdown",
   "id": "3349092f-5010-4d41-bacf-7d2cb448f729",
   "metadata": {},
   "source": [
    "I want to implement a simple package in Python that should be comuting different operations like sum, pultiplication and division given two numberds. The package should ask the user to input the two packages and then ask him what kind of operation he wants to perform . How can I implement such a simple \n",
    "... package in Python? \n",
    "\n",
    "- Please list all the steps that I need to go through "
   ]
  },
  {
   "cell_type": "markdown",
   "id": "27475237-8973-408e-ae14-383f70fc15d0",
   "metadata": {},
   "source": [
    "### Output "
   ]
  },
  {
   "cell_type": "markdown",
   "id": "4ab9bad0-2212-45bd-9ee6-1405ece8645b",
   "metadata": {},
   "source": [
    "- 1. Create a new directory for your project. Let's call it \"simple_calculator\".\n",
    "- 2. Inside the \"simple_calculator\" directory, create two files: `__init__.py` and `operations.py`.\n",
    "- 3. In `operations.py`, define functions for each of the operations you want to support (sum, multiplication, \n",
    "division). For example:"
   ]
  },
  {
   "cell_type": "markdown",
   "id": "876c9a05-db81-4bdd-a2f9-ef5a0873054d",
   "metadata": {},
   "source": [
    "```\n",
    "4. In `__init__.py`, import the functions from `operations.py`. This allows you to use them directly when you import \n",
    "your package. For example:\n",
    "```python\n"
   ]
  },
  {
   "cell_type": "code",
   "execution_count": 4,
   "id": "e25ef28f-dff8-49a7-93c3-ccd34eda98cd",
   "metadata": {},
   "outputs": [],
   "source": [
    "from operations import add, multiply, divide\n"
   ]
  },
  {
   "cell_type": "code",
   "execution_count": 5,
   "id": "f82f505c-e164-4e7e-8527-d3c64302b72b",
   "metadata": {},
   "outputs": [],
   "source": [
    "def add(a, b):\n",
    "    return a + b\n",
    "\n",
    "def multiply(a, b):\n",
    "    return a * b\n",
    "\n",
    "def divide(a, b):\n",
    "    if b == 0:\n",
    "        raise ValueError(\"Cannot divide by zero\")\n",
    "    return a / b\n",
    "\n",
    "\n",
    "\n",
    "def get_input():\n",
    "    num1 = float(input(\"Enter first number: \"))\n",
    "    num2 = float(input(\"Enter second number: \"))\n",
    "    return num1, num2\n",
    "\n",
    "\n"
   ]
  },
  {
   "cell_type": "code",
   "execution_count": 7,
   "id": "c5663bc9-f262-495d-a028-f3311345be2d",
   "metadata": {},
   "outputs": [
    {
     "name": "stdout",
     "output_type": "stream",
     "text": [
      "Welcome to Simple Calculator!\n"
     ]
    },
    {
     "name": "stdin",
     "output_type": "stream",
     "text": [
      "Enter first number:  10\n",
      "Enter second number:  22\n",
      "Enter 'add', 'multiply', or 'divide':  divide\n"
     ]
    },
    {
     "name": "stdout",
     "output_type": "stream",
     "text": [
      "Result: 0.45454545454545453\n"
     ]
    },
    {
     "name": "stdin",
     "output_type": "stream",
     "text": [
      "Do you want to perform another calculation? (yes/no):  no\n"
     ]
    }
   ],
   "source": [
    "def main():\n",
    "    print(\"Welcome to Simple Calculator!\")\n",
    "    while True:\n",
    "        num1, num2 = get_input()\n",
    "        operation = input(\"Enter 'add', 'multiply', or 'divide': \")\n",
    "        if operation == \"add\":\n",
    "            result = add(num1, num2)\n",
    "        elif operation == \"multiply\":\n",
    "            result = multiply(num1, num2)\n",
    "        elif operation == \"divide\":\n",
    "            try:\n",
    "                result = divide(num1, num2)\n",
    "            except ValueError as e:\n",
    "                print(e)\n",
    "                continue\n",
    "        else:\n",
    "            print(\"Invalid operation\")\n",
    "            continue\n",
    "        print(f\"Result: {result}\")\n",
    "        again = input(\"Do you want to perform another calculation? (yes/no): \")\n",
    "        if again.lower() != \"yes\":\n",
    "            break\n",
    "\n",
    "if __name__ == \"__main__\":\n",
    "    main()"
   ]
  },
  {
   "cell_type": "markdown",
   "id": "9a0d567f-ffd9-4f6e-8403-1628c9329f6d",
   "metadata": {},
   "source": [
    "```\n",
    "5. Create a main script in Python that uses this package. You can do this by creating another file, let's call it \n",
    "`main.py`, and adding the following code to it:\n",
    "```python"
   ]
  },
  {
   "cell_type": "markdown",
   "id": "1853e180-98aa-4ee7-bf16-a7eee2b4ee7f",
   "metadata": {},
   "source": [
    "### Explanation"
   ]
  },
  {
   "cell_type": "markdown",
   "id": "da798ec9-cd0e-4674-b727-75ba1207722a",
   "metadata": {},
   "source": [
    "This script will prompt the user for two numbers and an operation, perform the calculation using the functions from \n",
    "your package, display the result to the user, and then ask if they want to perform another calculation. If the user \n",
    "enters anything other than \"yes\", it will exit the loop."
   ]
  },
  {
   "cell_type": "code",
   "execution_count": null,
   "id": "47bcae83-6e35-45e0-9a73-58f2d990670e",
   "metadata": {},
   "outputs": [],
   "source": []
  },
  {
   "cell_type": "code",
   "execution_count": null,
   "id": "0475e292-13de-4ae0-be9c-4cea9ca82006",
   "metadata": {},
   "outputs": [],
   "source": []
  },
  {
   "cell_type": "code",
   "execution_count": null,
   "id": "70905b0f-c647-46cb-8a0e-6fcdd0d3e0fd",
   "metadata": {},
   "outputs": [],
   "source": []
  },
  {
   "cell_type": "code",
   "execution_count": null,
   "id": "8ea86dc4-2991-4d8b-b1de-cf3bd29ae8ac",
   "metadata": {},
   "outputs": [],
   "source": []
  },
  {
   "cell_type": "code",
   "execution_count": null,
   "id": "26be7380-205c-4f5d-8082-083fbba466c5",
   "metadata": {},
   "outputs": [],
   "source": []
  },
  {
   "cell_type": "code",
   "execution_count": null,
   "id": "2cdb9dfc-0e41-4514-9482-dfe77e365165",
   "metadata": {},
   "outputs": [],
   "source": []
  },
  {
   "cell_type": "code",
   "execution_count": null,
   "id": "070384aa-b12a-443a-854b-7f80e1bde8b7",
   "metadata": {},
   "outputs": [],
   "source": []
  }
 ],
 "metadata": {
  "kernelspec": {
   "display_name": "Python 3 (ipykernel)",
   "language": "python",
   "name": "python3"
  },
  "language_info": {
   "codemirror_mode": {
    "name": "ipython",
    "version": 3
   },
   "file_extension": ".py",
   "mimetype": "text/x-python",
   "name": "python",
   "nbconvert_exporter": "python",
   "pygments_lexer": "ipython3",
   "version": "3.10.13"
  }
 },
 "nbformat": 4,
 "nbformat_minor": 5
}
